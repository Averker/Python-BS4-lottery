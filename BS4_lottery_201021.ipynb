{
 "cells": [
  {
   "cell_type": "code",
   "execution_count": 1,
   "metadata": {},
   "outputs": [],
   "source": [
    "# Lottery number\n",
    "# 台灣彩券頭獎號碼擷取\n",
    "import requests\n",
    "from bs4 import BeautifulSoup"
   ]
  },
  {
   "cell_type": "code",
   "execution_count": 2,
   "metadata": {},
   "outputs": [],
   "source": [
    "url = 'http://www.taiwanlottery.com.tw/'\n",
    "html = requests.get(url)\n",
    "sp = BeautifulSoup(html.text, 'html.parser')\n",
    "#print(sp.prettify())\n",
    "data1 = sp.select(\"#rightdown\")\n",
    "#print(data1)"
   ]
  },
  {
   "cell_type": "code",
   "execution_count": 3,
   "metadata": {},
   "outputs": [],
   "source": [
    "data2 = data1[0].find_all('div', {'class':'contents_box02'})\n",
    "#print(data2)"
   ]
  },
  {
   "cell_type": "code",
   "execution_count": 4,
   "metadata": {},
   "outputs": [],
   "source": [
    "data3 = data2[2].find_all('div', {'class':'ball_tx ball_yellow'})\n",
    "#print(data3)"
   ]
  },
  {
   "cell_type": "code",
   "execution_count": 5,
   "metadata": {},
   "outputs": [
    {
     "name": "stdout",
     "output_type": "stream",
     "text": [
      "開出順序：05   28   39   17   18   30   "
     ]
    }
   ],
   "source": [
    "# 大樂透號碼\n",
    "print(\"開出順序：\",end=\"\")\n",
    "for n in range(6):\n",
    "    print(data3[n].text,end=\"  \") "
   ]
  },
  {
   "cell_type": "code",
   "execution_count": 6,
   "metadata": {},
   "outputs": [
    {
     "name": "stdout",
     "output_type": "stream",
     "text": [
      "\n",
      "大小順序：05   17   18   28   30   39   "
     ]
    }
   ],
   "source": [
    "print(\"\\n大小順序：\",end=\"\")    \n",
    "for n in range(6,len(data3)):\n",
    "    print(data3[n].text,end=\"  \")"
   ]
  },
  {
   "cell_type": "code",
   "execution_count": 7,
   "metadata": {},
   "outputs": [
    {
     "name": "stdout",
     "output_type": "stream",
     "text": [
      "\n",
      "第二區：13 \n"
     ]
    }
   ],
   "source": [
    "# 第二區\n",
    "red = data2[2].find('div', {'class':'ball_red'})        \n",
    "print(\"\\n第二區：{}\".format(red.text)) "
   ]
  }
 ],
 "metadata": {
  "kernelspec": {
   "display_name": "Python 3",
   "language": "python",
   "name": "python3"
  },
  "language_info": {
   "codemirror_mode": {
    "name": "ipython",
    "version": 3
   },
   "file_extension": ".py",
   "mimetype": "text/x-python",
   "name": "python",
   "nbconvert_exporter": "python",
   "pygments_lexer": "ipython3",
   "version": "3.8.3"
  }
 },
 "nbformat": 4,
 "nbformat_minor": 4
}
